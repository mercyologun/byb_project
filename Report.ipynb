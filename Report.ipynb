{
 "cells": [
  {
   "cell_type": "code",
   "execution_count": 1,
   "metadata": {
    "id": "h0LVvvnfJsg5"
   },
   "outputs": [],
   "source": [
    "# Import pandas\n",
    "import pandas as pd"
   ]
  },
  {
   "cell_type": "code",
   "execution_count": 3,
   "metadata": {
    "id": "rv2oLRnPK36J"
   },
   "outputs": [],
   "source": [
    "# Create a DataFrame with balance.txt\n",
    "df = pd.read_csv('balance.txt', sep=' ')"
   ]
  },
  {
   "cell_type": "markdown",
   "metadata": {
    "id": "_LXpBJXZLYoh"
   },
   "source": [
    "Write the code needed to produce a report that provides the following information:\n",
    "* Compare the average income based on ethnicity.\n",
    "* On average, do married or single people have a higher balance?\n",
    "* What is the highest income in our dataset?\n",
    "* What is the lowest income in our dataset?\n",
    "* How many cards do we have recorded in our dataset? (Hint: use `sum()`)\n",
    "* How many females do we have information for vs how many males? (Hint: use `count()` for a list of all methods for computation of descriptive stats, explore the [pandas documentation](https://pandas.pydata.org/pandas-docs/stable/reference/frame.html#computations-descriptive-stats)).\n",
    "\n",
    "\n"
   ]
  },
  {
   "cell_type": "code",
   "execution_count": 4,
   "metadata": {},
   "outputs": [
    {
     "name": "stdout",
     "output_type": "stream",
     "text": [
      "       Balance   Income  Limit  Rating  Cards  Age  Education  Gender Student  \\\n",
      "0    12.240798   14.891   3606     283      2   34         11    Male      No   \n",
      "1    23.283334  106.025   6645     483      3   82         15  Female     Yes   \n",
      "2    22.530409  104.593   7075     514      4   71         11    Male      No   \n",
      "3    27.652811  148.924   9504     681      3   36         11  Female      No   \n",
      "4    16.893978   55.882   4897     357      2   68         16    Male      No   \n",
      "..         ...      ...    ...     ...    ...  ...        ...     ...     ...   \n",
      "395   8.764984   12.096   4100     307      3   32         13    Male      No   \n",
      "396   9.943838   13.364   3838     296      5   65         17    Male      No   \n",
      "397  14.882078   57.872   4171     321      5   67         12  Female      No   \n",
      "398  12.001071   37.728   2525     192      1   44         13    Male      No   \n",
      "399  10.159598   18.701   5524     415      5   64          7  Female      No   \n",
      "\n",
      "    Married         Ethnicity  \n",
      "0       Yes         Caucasian  \n",
      "1       Yes             Asian  \n",
      "2        No             Asian  \n",
      "3        No             Asian  \n",
      "4       Yes         Caucasian  \n",
      "..      ...               ...  \n",
      "395     Yes         Caucasian  \n",
      "396      No  African American  \n",
      "397     Yes         Caucasian  \n",
      "398     Yes         Caucasian  \n",
      "399      No             Asian  \n",
      "\n",
      "[400 rows x 11 columns]\n"
     ]
    }
   ],
   "source": [
    "print(df)"
   ]
  },
  {
   "cell_type": "code",
   "execution_count": 5,
   "metadata": {},
   "outputs": [
    {
     "name": "stdout",
     "output_type": "stream",
     "text": [
      "Average income based on ethnicity:\n",
      "Ethnicity\n",
      "African American    47.682101\n",
      "Asian               44.187833\n",
      "Caucasian           44.521945\n",
      "Name: Income, dtype: float64\n"
     ]
    }
   ],
   "source": [
    "# 1. Compare the average income based on ethnicity\n",
    "avg_income_by_ethnicity = df.groupby('Ethnicity')['Income'].mean()\n",
    "print(\"Average income based on ethnicity:\")\n",
    "print(avg_income_by_ethnicity)"
   ]
  },
  {
   "cell_type": "code",
   "execution_count": 11,
   "metadata": {},
   "outputs": [
    {
     "name": "stdout",
     "output_type": "stream",
     "text": [
      "Average balance for married individuals: 13.388473477498913\n",
      "Average balance for single individuals: 13.493509015134242\n"
     ]
    }
   ],
   "source": [
    "# 2. On average, do married or single people have a higher balance?\n",
    "avg_balance_married = df[df['Married'] == 'Yes']['Balance'].mean()\n",
    "avg_balance_single = df[df['Married'] == 'No']['Balance'].mean()\n",
    "print(\"Average balance for married individuals:\", avg_balance_married)\n",
    "print(\"Average balance for single individuals:\", avg_balance_single)"
   ]
  },
  {
   "cell_type": "code",
   "execution_count": 7,
   "metadata": {},
   "outputs": [
    {
     "name": "stdout",
     "output_type": "stream",
     "text": [
      "Highest income in the dataset: 186.634\n"
     ]
    }
   ],
   "source": [
    "# 3. What is the highest income in our dataset?\n",
    "max_income = df['Income'].max()\n",
    "print(\"Highest income in the dataset:\", max_income)"
   ]
  },
  {
   "cell_type": "code",
   "execution_count": 8,
   "metadata": {},
   "outputs": [
    {
     "name": "stdout",
     "output_type": "stream",
     "text": [
      "Lowest income in the dataset: 10.354\n"
     ]
    }
   ],
   "source": [
    "# 4. What is the lowest income in our dataset?\n",
    "min_income = df['Income'].min()\n",
    "print(\"Lowest income in the dataset:\", min_income)"
   ]
  },
  {
   "cell_type": "code",
   "execution_count": 9,
   "metadata": {},
   "outputs": [
    {
     "name": "stdout",
     "output_type": "stream",
     "text": [
      "Number of cards recorded in the dataset: 1183\n"
     ]
    }
   ],
   "source": [
    "# 5. How many cards do we have recorded in our dataset?\n",
    "num_cards = df['Cards'].sum()\n",
    "print(\"Number of cards recorded in the dataset:\", num_cards)"
   ]
  },
  {
   "cell_type": "code",
   "execution_count": 10,
   "metadata": {},
   "outputs": [
    {
     "name": "stdout",
     "output_type": "stream",
     "text": [
      "Number of females: 207\n",
      "Number of males: 193\n"
     ]
    }
   ],
   "source": [
    "# 6. How many females do we have information for vs how many males?\n",
    "num_females = df[df['Gender'] == 'Female']['Gender'].count()\n",
    "num_males = df[df['Gender'] == 'Male']['Gender'].count()\n",
    "print(\"Number of females:\", num_females)\n",
    "print(\"Number of males:\", num_males)"
   ]
  },
  {
   "cell_type": "code",
   "execution_count": null,
   "metadata": {},
   "outputs": [],
   "source": []
  }
 ],
 "metadata": {
  "colab": {
   "provenance": []
  },
  "kernelspec": {
   "display_name": "Python 3 (ipykernel)",
   "language": "python",
   "name": "python3"
  },
  "language_info": {
   "codemirror_mode": {
    "name": "ipython",
    "version": 3
   },
   "file_extension": ".py",
   "mimetype": "text/x-python",
   "name": "python",
   "nbconvert_exporter": "python",
   "pygments_lexer": "ipython3",
   "version": "3.11.4"
  }
 },
 "nbformat": 4,
 "nbformat_minor": 1
}
